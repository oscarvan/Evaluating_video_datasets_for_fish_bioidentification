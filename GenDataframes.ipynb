{
 "cells": [
  {
   "cell_type": "code",
   "execution_count": 1,
   "id": "d5052518-76a8-46e4-9043-7264cb40616e",
   "metadata": {},
   "outputs": [],
   "source": [
    "import json\n",
    "\n",
    "from pathlib import Path\n",
    "\n",
    "from tqdm.notebook import tqdm\n",
    "\n",
    "import cv2 as cv\n",
    "import numpy as np\n",
    "import pandas as pd"
   ]
  },
  {
   "cell_type": "code",
   "execution_count": 2,
   "id": "8bc4f7a1-173a-4af3-a409-4209ff884593",
   "metadata": {},
   "outputs": [],
   "source": [
    "base_dir = Path(\"/workspace/hrrsxb/AIP/Morphometrics/workflows/\")"
   ]
  },
  {
   "cell_type": "code",
   "execution_count": 3,
   "id": "dabe9cbc-6440-48d8-af84-4fa86b66b07c",
   "metadata": {},
   "outputs": [
    {
     "name": "stdout",
     "output_type": "stream",
     "text": [
      "48 videos\n"
     ]
    }
   ],
   "source": [
    "with open(base_dir / \"videos.txt\") as f:\n",
    "    video_paths = f.readlines()\n",
    "    video_paths = [Path(p.strip()) for p in video_paths]\n",
    "    print(f\"{len(video_paths)} videos\")"
   ]
  },
  {
   "cell_type": "code",
   "execution_count": 4,
   "id": "c58828a8-aec9-4c46-aec3-148e50ee9984",
   "metadata": {},
   "outputs": [],
   "source": [
    "video_qualities = {\n",
    "    'GX020200': ['clear', 'bright', 'gopro'],\n",
    "    'GX010200': ['clear', 'bright', 'gopro'],\n",
    "    'GX020199': ['clear', 'bright', 'gopro'],\n",
    "    'GX010199': ['clear', 'bright', 'gopro'],\n",
    "    'F1_20221116': ['murky', 'dim', 'phone'],\n",
    "    'F4_20221116': ['murky', 'dim', 'phone'],\n",
    "    'GX012191': ['murky', 'bright', 'gopro'],\n",
    "    'GX012189': ['murky', 'bright', 'gopro'],\n",
    "    'GX012190': ['murky', 'bright', 'gopro'],\n",
    "    'GX012188': ['murky', 'bright', 'gopro'],\n",
    "    'GX020006': ['murky', 'dim', 'gopro'],\n",
    "    'GX010006': ['murky', 'dim', 'gopro'],\n",
    "    'GX010033': ['clear', 'bright', 'gopro'],\n",
    "    'GX010032': ['clear', 'bright', 'gopro'],\n",
    "    'GX040026': ['clear', 'bright', 'gopro'],\n",
    "    'GX030026': ['clear', 'bright', 'gopro'],\n",
    "    'GX020026': ['clear', 'bright', 'gopro'],\n",
    "    'GX010027': ['NA', 'NA', 'gopro'],\n",
    "    'GX010026': ['clear', 'bright', 'gopro'],\n",
    "    'GX030022': ['clear', 'bright', 'gopro'],\n",
    "    'GX020022': ['clear', 'bright', 'gopro'],\n",
    "    'GX010022': ['clear', 'bright', 'gopro'],\n",
    "    '2022-03-15_11-46-18_B5': ['clear', 'bright', 'gopro'],\n",
    "    'GH050197': ['murky', 'bright', 'gopro'],\n",
    "    '2021-12-09_14-53-17_B4': ['clear', 'bright', 'gopro'],\n",
    "    '2021-11-12_10-25-21_B4': ['murky', 'dim', 'gopro'],\n",
    "    '2021-11-03_10-49-48_B4': ['murky', 'dim', 'gopro'],\n",
    "    '2021-09-10_15-38-02_B5': ['murky', 'dark', 'gopro'],\n",
    "    '2021-09-03_10-57-20_B5': ['clear', 'bright', 'gopro'],\n",
    "    '2021-09-03_10-40-53_B5': ['clear', 'bright', 'gopro'],\n",
    "    'G0019499': ['clear', 'bright', 'gopro'],\n",
    "    'G0019498': ['clear', 'bright', 'gopro'],\n",
    "    'GP019603': ['clear', 'bright', 'gopro'],\n",
    "    'GOPR9603': ['clear', 'bright', 'gopro'],\n",
    "    'GP029602': ['clear', 'bright', 'gopro'],\n",
    "    'GP019602': ['clear', 'bright', 'gopro'],\n",
    "    'GOPR9602': ['clear', 'bright', 'gopro'],\n",
    "    'GP029599': ['clear', 'bright', 'gopro'],\n",
    "    'GP019599': ['clear', 'bright', 'gopro'],\n",
    "    'GOPR9599': ['clear', 'bright', 'gopro'],\n",
    "    \"SHD_8f03-1643670176\": [\"clear\", \"bright\", \"snapit\"],\n",
    "    \"SHD_8f03-1643673600\": [\"clear\", \"bright\", \"snapit\"],\n",
    "    \"SHD_8f03-1643675400\": [\"clear\", \"bright\", \"snapit\"],\n",
    "    \"SHD_8f03-1643936400\": [\"clear\", \"bright\", \"snapit\"],\n",
    "    \"SHD_8f03-1659571200\": [\"clear\", \"dim\", \"snapit\"],\n",
    "    \"SHD_8f03-1659572100\": [\"clear\", \"dim\", \"snapit\"],\n",
    "    \"SHD_8f03-1659830400\": [\"clear\", \"dim\", \"snapit\"],\n",
    "    \"SHD_8f03-1659831300\": [\"clear\", \"dim\", \"snapit\"],\n",
    "}"
   ]
  },
  {
   "cell_type": "code",
   "execution_count": 5,
   "id": "103c59df-c00a-4053-8cc3-e180282aadee",
   "metadata": {},
   "outputs": [
    {
     "data": {
      "text/plain": [
       "{'GX020200': 29,\n",
       " 'GX010200': 29,\n",
       " 'GX020199': 29,\n",
       " 'GX010199': 29,\n",
       " 'F1_20221116': 29,\n",
       " 'F4_20221116': 29,\n",
       " 'GX012191': 29,\n",
       " 'GX012189': 29,\n",
       " 'GX012190': 29,\n",
       " 'GX012188': 29,\n",
       " 'GX020006': 29,\n",
       " 'GX010006': 29,\n",
       " 'GX010033': 29,\n",
       " 'GX010032': 29,\n",
       " 'GX040026': 29,\n",
       " 'GX030026': 29,\n",
       " 'GX020026': 29,\n",
       " 'GX010027': 29,\n",
       " 'GX010026': 29,\n",
       " 'GX030022': 29,\n",
       " 'GX020022': 29,\n",
       " 'GX010022': 29,\n",
       " '2022-03-15_11-46-18_B5': 29,\n",
       " 'GH050197': 29,\n",
       " '2021-12-09_14-53-17_B4': 59,\n",
       " '2021-11-12_10-25-21_B4': 59,\n",
       " '2021-11-03_10-49-48_B4': 59,\n",
       " '2021-09-10_15-38-02_B5': 59,\n",
       " '2021-09-03_10-57-20_B5': 59,\n",
       " '2021-09-03_10-40-53_B5': 59,\n",
       " 'G0019499': 29,\n",
       " 'G0019498': 29,\n",
       " 'GP019603': 59,\n",
       " 'GOPR9603': 59,\n",
       " 'GP029602': 59,\n",
       " 'GP019602': 59,\n",
       " 'GOPR9602': 59,\n",
       " 'GP029599': 59,\n",
       " 'GP019599': 59,\n",
       " 'GOPR9599': 59,\n",
       " 'SHD_8f03-1643670176': 15,\n",
       " 'SHD_8f03-1643673600': 15,\n",
       " 'SHD_8f03-1643675400': 15,\n",
       " 'SHD_8f03-1643936400': 15,\n",
       " 'SHD_8f03-1659571200': 15,\n",
       " 'SHD_8f03-1659572100': 15,\n",
       " 'SHD_8f03-1659830400': 15,\n",
       " 'SHD_8f03-1659831300': 15}"
      ]
     },
     "execution_count": 5,
     "metadata": {},
     "output_type": "execute_result"
    }
   ],
   "source": [
    "framerates = {}\n",
    "for video_path in video_paths:\n",
    "    video = cv.VideoCapture(str(video_path))\n",
    "    if (video.isOpened() == False):\n",
    "        print(f\"Error opening video at path {video_path}\")\n",
    "        continue\n",
    "    \n",
    "    framerates[video_path.stem] = int(video.get(cv.CAP_PROP_FPS))\n",
    "\n",
    "framerates"
   ]
  },
  {
   "cell_type": "code",
   "execution_count": 6,
   "id": "cfa31509-2194-4054-95d4-3aaa23ec5b70",
   "metadata": {},
   "outputs": [
    {
     "data": {
      "text/plain": [
       "{'GX020200': 3060,\n",
       " 'GX010200': 9720,\n",
       " 'GX020199': 3666,\n",
       " 'GX010199': 9600,\n",
       " 'F1_20221116': 928,\n",
       " 'F4_20221116': 918,\n",
       " 'GX012191': 1628,\n",
       " 'GX012189': 4273,\n",
       " 'GX012190': 2281,\n",
       " 'GX012188': 4543,\n",
       " 'GX020006': 16704,\n",
       " 'GX010006': 69120,\n",
       " 'GX010033': 7601,\n",
       " 'GX010032': 8427,\n",
       " 'GX040026': 15537,\n",
       " 'GX030026': 21120,\n",
       " 'GX020026': 21120,\n",
       " 'GX010027': 132,\n",
       " 'GX010026': 21120,\n",
       " 'GX030022': 15767,\n",
       " 'GX020022': 21120,\n",
       " 'GX010022': 21120,\n",
       " '2022-03-15_11-46-18_B5': 10530,\n",
       " 'GH050197': 9570,\n",
       " '2021-12-09_14-53-17_B4': 19200,\n",
       " '2021-11-12_10-25-21_B4': 19200,\n",
       " '2021-11-03_10-49-48_B4': 19200,\n",
       " '2021-09-10_15-38-02_B5': 31860,\n",
       " '2021-09-03_10-57-20_B5': 25796,\n",
       " '2021-09-03_10-40-53_B5': 31860,\n",
       " 'G0019499': 13437,\n",
       " 'G0019498': 17984,\n",
       " 'GP019603': 51038,\n",
       " 'GOPR9603': 63720,\n",
       " 'GP029602': 35600,\n",
       " 'GP019602': 63720,\n",
       " 'GOPR9602': 63720,\n",
       " 'GP029599': 18209,\n",
       " 'GP019599': 63720,\n",
       " 'GOPR9599': 63720,\n",
       " 'SHD_8f03-1643670176': 10881,\n",
       " 'SHD_8f03-1643673600': 13500,\n",
       " 'SHD_8f03-1643675400': 13501,\n",
       " 'SHD_8f03-1643936400': 288,\n",
       " 'SHD_8f03-1659571200': 13501,\n",
       " 'SHD_8f03-1659572100': 13500,\n",
       " 'SHD_8f03-1659830400': 13500,\n",
       " 'SHD_8f03-1659831300': 13501}"
      ]
     },
     "execution_count": 6,
     "metadata": {},
     "output_type": "execute_result"
    }
   ],
   "source": [
    "total_num_frames = {}\n",
    "for video_path in video_paths:\n",
    "    video = cv.VideoCapture(str(video_path))\n",
    "    if (video.isOpened() == False):\n",
    "        print(f\"Error opening video at path {video_path}\")\n",
    "        continue\n",
    "    \n",
    "    total_num_frames[video_path.stem] = int(video.get(cv.CAP_PROP_FRAME_COUNT))\n",
    "\n",
    "total_num_frames"
   ]
  },
  {
   "cell_type": "code",
   "execution_count": 7,
   "id": "20a39aa6-4e1c-4ce3-b2a0-bcd76831563a",
   "metadata": {},
   "outputs": [
    {
     "data": {
      "text/plain": [
       "{'GX010026': 3349,\n",
       " 'F1_20221116': 283,\n",
       " 'SHD_8f03-1659572100': 964,\n",
       " '2022-03-15_11-46-18_B5': 3227,\n",
       " 'GX010033': 2787,\n",
       " 'GX020199': 673,\n",
       " 'SHD_8f03-1643670176': 170,\n",
       " 'SHD_8f03-1659831300': 559,\n",
       " 'GX030022': 1744,\n",
       " 'GP019599': 3342,\n",
       " 'SHD_8f03-1659830400': 572,\n",
       " 'GOPR9602': 5568,\n",
       " 'GX010199': 1794,\n",
       " 'GOPR9599': 591,\n",
       " 'GX012191': 130,\n",
       " 'F4_20221116': 263,\n",
       " 'GX030026': 3772,\n",
       " 'GH050197': 1794,\n",
       " 'GP029602': 4343,\n",
       " 'GOPR9603': 10667,\n",
       " 'GX010032': 3092,\n",
       " 'GX012190': 224,\n",
       " 'GX020022': 2622,\n",
       " 'G0019499': 3748,\n",
       " '2021-09-03_10-57-20_B5': 6592,\n",
       " '2021-12-09_14-53-17_B4': 5246,\n",
       " '2021-09-03_10-40-53_B5': 11115,\n",
       " 'SHD_8f03-1643936400': 44,\n",
       " 'GX020006': 23,\n",
       " '2021-11-03_10-49-48_B4': 6753,\n",
       " 'GX012188': 1013,\n",
       " 'GP029599': 1022,\n",
       " 'GX010006': 1074,\n",
       " '2021-09-10_15-38-02_B5': 5994,\n",
       " 'GP019603': 9455,\n",
       " 'SHD_8f03-1643675400': 94,\n",
       " 'GX010200': 1155,\n",
       " 'G0019498': 5319,\n",
       " 'GX012189': 221,\n",
       " 'GX040026': 3091,\n",
       " 'GX010022': 2345,\n",
       " 'GX020200': 193,\n",
       " 'SHD_8f03-1659571200': 484,\n",
       " 'GP019602': 9017,\n",
       " 'GX020026': 3303,\n",
       " 'GX010027': 0,\n",
       " 'SHD_8f03-1643673600': 144,\n",
       " '2021-11-12_10-25-21_B4': 6521}"
      ]
     },
     "execution_count": 7,
     "metadata": {},
     "output_type": "execute_result"
    }
   ],
   "source": [
    "num_frames_with_obs = {}\n",
    "for output_dir in base_dir.glob(\"output/*\"):\n",
    "    frame_paths = output_dir.glob(\"*/frames/*.jpg\")\n",
    "    frame_paths = sorted(frame_paths)\n",
    "    num_frames_with_obs[output_dir.name] = len(frame_paths)\n",
    "\n",
    "num_frames_with_obs"
   ]
  },
  {
   "cell_type": "code",
   "execution_count": 8,
   "id": "6f0e9e2c-3c25-42aa-b31c-4c2a1fbc7a9b",
   "metadata": {},
   "outputs": [
    {
     "data": {
      "text/plain": [
       "{'GX010026': 3803,\n",
       " 'F1_20221116': 388,\n",
       " 'SHD_8f03-1659572100': 1032,\n",
       " '2022-03-15_11-46-18_B5': 4152,\n",
       " 'GX010033': 5076,\n",
       " 'GX020199': 819,\n",
       " 'SHD_8f03-1643670176': 179,\n",
       " 'SHD_8f03-1659831300': 582,\n",
       " 'GX030022': 1927,\n",
       " 'GP019599': 3373,\n",
       " 'SHD_8f03-1659830400': 589,\n",
       " 'GOPR9602': 5696,\n",
       " 'GX010199': 2187,\n",
       " 'GOPR9599': 591,\n",
       " 'GX012191': 152,\n",
       " 'F4_20221116': 366,\n",
       " 'GX030026': 4254,\n",
       " 'GH050197': 2125,\n",
       " 'GP029602': 4591,\n",
       " 'GOPR9603': 11723,\n",
       " 'GX010032': 5137,\n",
       " 'GX012190': 260,\n",
       " 'GX020022': 2895,\n",
       " 'G0019499': 4712,\n",
       " '2021-09-03_10-57-20_B5': 15086,\n",
       " '2021-12-09_14-53-17_B4': 7037,\n",
       " '2021-09-03_10-40-53_B5': 26033,\n",
       " 'SHD_8f03-1643936400': 56,\n",
       " 'GX020006': 23,\n",
       " '2021-11-03_10-49-48_B4': 9454,\n",
       " 'GX012188': 1362,\n",
       " 'GP029599': 1034,\n",
       " 'GX010006': 1083,\n",
       " '2021-09-10_15-38-02_B5': 6915,\n",
       " 'GP019603': 10745,\n",
       " 'SHD_8f03-1643675400': 96,\n",
       " 'GX010200': 1309,\n",
       " 'G0019498': 6920,\n",
       " 'GX012189': 235,\n",
       " 'GX040026': 3568,\n",
       " 'GX010022': 2598,\n",
       " 'GX020200': 207,\n",
       " 'SHD_8f03-1659571200': 496,\n",
       " 'GP019602': 9662,\n",
       " 'GX020026': 3701,\n",
       " 'GX010027': 0,\n",
       " 'SHD_8f03-1643673600': 156,\n",
       " '2021-11-12_10-25-21_B4': 12415}"
      ]
     },
     "execution_count": 8,
     "metadata": {},
     "output_type": "execute_result"
    }
   ],
   "source": [
    "num_individuals = {}\n",
    "for output_dir in base_dir.glob(\"output/*\"):\n",
    "    individual_paths = output_dir.glob(\"*/individuals/*.jpg\")\n",
    "    individual_paths = sorted(individual_paths)\n",
    "    num_individuals[output_dir.name] = len(individual_paths) \n",
    "\n",
    "num_individuals"
   ]
  },
  {
   "cell_type": "code",
   "execution_count": 9,
   "id": "62d0109f-2f90-4450-97d2-3438fda53a66",
   "metadata": {},
   "outputs": [
    {
     "data": {
      "text/plain": [
       "{'GX010026': 34.0,\n",
       " 'F1_20221116': 14.0,\n",
       " 'SHD_8f03-1659572100': 72.0,\n",
       " '2022-03-15_11-46-18_B5': 18.0,\n",
       " 'GX010033': 18.0,\n",
       " 'GX020199': 18.0,\n",
       " 'SHD_8f03-1643670176': 49.0,\n",
       " 'SHD_8f03-1659831300': 87.0,\n",
       " 'GX030022': 40.0,\n",
       " 'GP019599': 134.0,\n",
       " 'SHD_8f03-1659830400': 110.0,\n",
       " 'GOPR9602': 106.0,\n",
       " 'GX010199': 18.0,\n",
       " 'GOPR9599': 234.0,\n",
       " 'GX012191': 28.0,\n",
       " 'F4_20221116': 16.0,\n",
       " 'GX030026': 34.0,\n",
       " 'GH050197': 26.0,\n",
       " 'GP029602': 56.0,\n",
       " 'GOPR9603': 52.0,\n",
       " 'GX010032': 14.0,\n",
       " 'GX012190': 24.0,\n",
       " 'GX020022': 38.0,\n",
       " 'G0019499': 22.0,\n",
       " '2021-09-03_10-57-20_B5': 16.0,\n",
       " '2021-12-09_14-53-17_B4': 24.0,\n",
       " '2021-09-03_10-40-53_B5': 18.0,\n",
       " 'SHD_8f03-1643936400': 22.0,\n",
       " 'GX020006': 1040.0,\n",
       " '2021-11-03_10-49-48_B4': 20.0,\n",
       " 'GX012188': 17.0,\n",
       " 'GP029599': 138.0,\n",
       " 'GX010006': 127.0,\n",
       " '2021-09-10_15-38-02_B5': 28.0,\n",
       " 'GP019603': 54.0,\n",
       " 'SHD_8f03-1643675400': 74.0,\n",
       " 'GX010200': 22.0,\n",
       " 'G0019498': 20.0,\n",
       " 'GX012189': 43.0,\n",
       " 'GX040026': 28.0,\n",
       " 'GX010022': 32.0,\n",
       " 'GX020200': 32.0,\n",
       " 'SHD_8f03-1659571200': 74.0,\n",
       " 'GP019602': 80.0,\n",
       " 'GX020026': 34.0,\n",
       " 'GX010027': None,\n",
       " 'SHD_8f03-1643673600': 162.0,\n",
       " '2021-11-12_10-25-21_B4': 18.0}"
      ]
     },
     "execution_count": 9,
     "metadata": {},
     "output_type": "execute_result"
    }
   ],
   "source": [
    "def get_median_gap(frame_paths, min_gap_size=10): \n",
    "    gap_list = [] #new gap list for new video \n",
    "    \n",
    "    for index, _ in enumerate(frame_paths[:-1]): \n",
    "        # get frame number from file  name \n",
    "        curr_frame_path = frame_paths[index]\n",
    "        next_frame_path = frame_paths[index+1]\n",
    "        \n",
    "        curr_frame_num = int(curr_frame_path.stem.split(\"_\")[-1])\n",
    "        next_frame_num = int(next_frame_path.stem.split(\"_\")[-1])\n",
    "        gap = next_frame_num - curr_frame_num\n",
    "\n",
    "        if gap > min_gap_size: \n",
    "            gap_list.append(gap) \n",
    "    \n",
    "    if not gap_list: #check if list is empty  \n",
    "        return None\n",
    "    else:\n",
    "        return np.median(gap_list)\n",
    "\n",
    "# Add median number of frames between successive observations\n",
    "median_frames_between_obs = {}\n",
    "\n",
    "# loop though all videos:\n",
    "for output_dir in base_dir.glob(\"output/*\"): #output/* \"output/G0019498\"\n",
    "    frame_paths = output_dir.glob(\"*/frames/*.jpg\")\n",
    "    frame_paths = sorted(frame_paths)\n",
    "    median_frames_between_obs[output_dir.name] = get_median_gap(frame_paths) \n",
    "    \n",
    "median_frames_between_obs"
   ]
  },
  {
   "cell_type": "code",
   "execution_count": 10,
   "id": "ee647cb4-31c0-4fa5-b1c2-df8b6cf38bdc",
   "metadata": {},
   "outputs": [
    {
     "data": {
      "text/html": [
       "<div>\n",
       "<style scoped>\n",
       "    .dataframe tbody tr th:only-of-type {\n",
       "        vertical-align: middle;\n",
       "    }\n",
       "\n",
       "    .dataframe tbody tr th {\n",
       "        vertical-align: top;\n",
       "    }\n",
       "\n",
       "    .dataframe thead th {\n",
       "        text-align: right;\n",
       "    }\n",
       "</style>\n",
       "<table border=\"1\" class=\"dataframe\">\n",
       "  <thead>\n",
       "    <tr style=\"text-align: right;\">\n",
       "      <th></th>\n",
       "      <th>FileName</th>\n",
       "      <th>FrameRate</th>\n",
       "      <th>TotalNumFrames</th>\n",
       "      <th>NumFramesWithIndividuals</th>\n",
       "      <th>NumOfIndividuals</th>\n",
       "      <th>MedianGap</th>\n",
       "      <th>WaterQuality</th>\n",
       "      <th>Brightness</th>\n",
       "      <th>Camera</th>\n",
       "      <th>ObservationRatePer1000</th>\n",
       "    </tr>\n",
       "  </thead>\n",
       "  <tbody>\n",
       "    <tr>\n",
       "      <th>0</th>\n",
       "      <td>/input/seafood/VIDEOS/snapper/2022/2022-12-20_...</td>\n",
       "      <td>29</td>\n",
       "      <td>3060</td>\n",
       "      <td>193</td>\n",
       "      <td>207</td>\n",
       "      <td>32.0</td>\n",
       "      <td>clear</td>\n",
       "      <td>bright</td>\n",
       "      <td>gopro</td>\n",
       "      <td>63.071895</td>\n",
       "    </tr>\n",
       "    <tr>\n",
       "      <th>1</th>\n",
       "      <td>/input/seafood/VIDEOS/snapper/2022/2022-12-20_...</td>\n",
       "      <td>29</td>\n",
       "      <td>9720</td>\n",
       "      <td>1155</td>\n",
       "      <td>1309</td>\n",
       "      <td>22.0</td>\n",
       "      <td>clear</td>\n",
       "      <td>bright</td>\n",
       "      <td>gopro</td>\n",
       "      <td>118.827160</td>\n",
       "    </tr>\n",
       "    <tr>\n",
       "      <th>2</th>\n",
       "      <td>/input/seafood/VIDEOS/snapper/2022/2022-12-20_...</td>\n",
       "      <td>29</td>\n",
       "      <td>3666</td>\n",
       "      <td>673</td>\n",
       "      <td>819</td>\n",
       "      <td>18.0</td>\n",
       "      <td>clear</td>\n",
       "      <td>bright</td>\n",
       "      <td>gopro</td>\n",
       "      <td>183.578833</td>\n",
       "    </tr>\n",
       "    <tr>\n",
       "      <th>3</th>\n",
       "      <td>/input/seafood/VIDEOS/snapper/2022/2022-12-20_...</td>\n",
       "      <td>29</td>\n",
       "      <td>9600</td>\n",
       "      <td>1794</td>\n",
       "      <td>2187</td>\n",
       "      <td>18.0</td>\n",
       "      <td>clear</td>\n",
       "      <td>bright</td>\n",
       "      <td>gopro</td>\n",
       "      <td>186.875000</td>\n",
       "    </tr>\n",
       "    <tr>\n",
       "      <th>4</th>\n",
       "      <td>/input/seafood/VIDEOS/snapper/2022/2022-11-16_...</td>\n",
       "      <td>29</td>\n",
       "      <td>928</td>\n",
       "      <td>283</td>\n",
       "      <td>388</td>\n",
       "      <td>14.0</td>\n",
       "      <td>murky</td>\n",
       "      <td>dim</td>\n",
       "      <td>phone</td>\n",
       "      <td>304.956897</td>\n",
       "    </tr>\n",
       "    <tr>\n",
       "      <th>5</th>\n",
       "      <td>/input/seafood/VIDEOS/snapper/2022/2022-11-16_...</td>\n",
       "      <td>29</td>\n",
       "      <td>918</td>\n",
       "      <td>263</td>\n",
       "      <td>366</td>\n",
       "      <td>16.0</td>\n",
       "      <td>murky</td>\n",
       "      <td>dim</td>\n",
       "      <td>phone</td>\n",
       "      <td>286.492375</td>\n",
       "    </tr>\n",
       "    <tr>\n",
       "      <th>6</th>\n",
       "      <td>/input/seafood/VIDEOS/snapper/2022/2022-11-15_...</td>\n",
       "      <td>29</td>\n",
       "      <td>1628</td>\n",
       "      <td>130</td>\n",
       "      <td>152</td>\n",
       "      <td>28.0</td>\n",
       "      <td>murky</td>\n",
       "      <td>bright</td>\n",
       "      <td>gopro</td>\n",
       "      <td>79.852580</td>\n",
       "    </tr>\n",
       "    <tr>\n",
       "      <th>7</th>\n",
       "      <td>/input/seafood/VIDEOS/snapper/2022/2022-11-15_...</td>\n",
       "      <td>29</td>\n",
       "      <td>4273</td>\n",
       "      <td>221</td>\n",
       "      <td>235</td>\n",
       "      <td>43.0</td>\n",
       "      <td>murky</td>\n",
       "      <td>bright</td>\n",
       "      <td>gopro</td>\n",
       "      <td>51.720103</td>\n",
       "    </tr>\n",
       "    <tr>\n",
       "      <th>8</th>\n",
       "      <td>/input/seafood/VIDEOS/snapper/2022/2022-11-15_...</td>\n",
       "      <td>29</td>\n",
       "      <td>2281</td>\n",
       "      <td>224</td>\n",
       "      <td>260</td>\n",
       "      <td>24.0</td>\n",
       "      <td>murky</td>\n",
       "      <td>bright</td>\n",
       "      <td>gopro</td>\n",
       "      <td>98.202543</td>\n",
       "    </tr>\n",
       "    <tr>\n",
       "      <th>9</th>\n",
       "      <td>/input/seafood/VIDEOS/snapper/2022/2022-11-15_...</td>\n",
       "      <td>29</td>\n",
       "      <td>4543</td>\n",
       "      <td>1013</td>\n",
       "      <td>1362</td>\n",
       "      <td>17.0</td>\n",
       "      <td>murky</td>\n",
       "      <td>bright</td>\n",
       "      <td>gopro</td>\n",
       "      <td>222.980409</td>\n",
       "    </tr>\n",
       "    <tr>\n",
       "      <th>10</th>\n",
       "      <td>/input/seafood/VIDEOS/snapper/2022/2022-09-09_...</td>\n",
       "      <td>29</td>\n",
       "      <td>16704</td>\n",
       "      <td>23</td>\n",
       "      <td>23</td>\n",
       "      <td>1040.0</td>\n",
       "      <td>murky</td>\n",
       "      <td>dim</td>\n",
       "      <td>gopro</td>\n",
       "      <td>1.376916</td>\n",
       "    </tr>\n",
       "    <tr>\n",
       "      <th>11</th>\n",
       "      <td>/input/seafood/VIDEOS/snapper/2022/2022-09-09_...</td>\n",
       "      <td>29</td>\n",
       "      <td>69120</td>\n",
       "      <td>1074</td>\n",
       "      <td>1083</td>\n",
       "      <td>127.0</td>\n",
       "      <td>murky</td>\n",
       "      <td>dim</td>\n",
       "      <td>gopro</td>\n",
       "      <td>15.538194</td>\n",
       "    </tr>\n",
       "    <tr>\n",
       "      <th>12</th>\n",
       "      <td>/input/seafood/VIDEOS/snapper/2022/2022-09-06_...</td>\n",
       "      <td>29</td>\n",
       "      <td>7601</td>\n",
       "      <td>2787</td>\n",
       "      <td>5076</td>\n",
       "      <td>18.0</td>\n",
       "      <td>clear</td>\n",
       "      <td>bright</td>\n",
       "      <td>gopro</td>\n",
       "      <td>366.662281</td>\n",
       "    </tr>\n",
       "    <tr>\n",
       "      <th>13</th>\n",
       "      <td>/input/seafood/VIDEOS/snapper/2022/2022-09-06_...</td>\n",
       "      <td>29</td>\n",
       "      <td>8427</td>\n",
       "      <td>3092</td>\n",
       "      <td>5137</td>\n",
       "      <td>14.0</td>\n",
       "      <td>clear</td>\n",
       "      <td>bright</td>\n",
       "      <td>gopro</td>\n",
       "      <td>366.915866</td>\n",
       "    </tr>\n",
       "    <tr>\n",
       "      <th>14</th>\n",
       "      <td>/input/seafood/VIDEOS/snapper/2022/2022-08-10_...</td>\n",
       "      <td>29</td>\n",
       "      <td>15537</td>\n",
       "      <td>3091</td>\n",
       "      <td>3568</td>\n",
       "      <td>28.0</td>\n",
       "      <td>clear</td>\n",
       "      <td>bright</td>\n",
       "      <td>gopro</td>\n",
       "      <td>198.944455</td>\n",
       "    </tr>\n",
       "    <tr>\n",
       "      <th>15</th>\n",
       "      <td>/input/seafood/VIDEOS/snapper/2022/2022-08-10_...</td>\n",
       "      <td>29</td>\n",
       "      <td>21120</td>\n",
       "      <td>3772</td>\n",
       "      <td>4254</td>\n",
       "      <td>34.0</td>\n",
       "      <td>clear</td>\n",
       "      <td>bright</td>\n",
       "      <td>gopro</td>\n",
       "      <td>178.598485</td>\n",
       "    </tr>\n",
       "    <tr>\n",
       "      <th>16</th>\n",
       "      <td>/input/seafood/VIDEOS/snapper/2022/2022-08-10_...</td>\n",
       "      <td>29</td>\n",
       "      <td>21120</td>\n",
       "      <td>3303</td>\n",
       "      <td>3701</td>\n",
       "      <td>34.0</td>\n",
       "      <td>clear</td>\n",
       "      <td>bright</td>\n",
       "      <td>gopro</td>\n",
       "      <td>156.392045</td>\n",
       "    </tr>\n",
       "    <tr>\n",
       "      <th>17</th>\n",
       "      <td>/input/seafood/VIDEOS/snapper/2022/2022-08-10_...</td>\n",
       "      <td>29</td>\n",
       "      <td>132</td>\n",
       "      <td>0</td>\n",
       "      <td>0</td>\n",
       "      <td>NaN</td>\n",
       "      <td>NA</td>\n",
       "      <td>NA</td>\n",
       "      <td>gopro</td>\n",
       "      <td>0.000000</td>\n",
       "    </tr>\n",
       "    <tr>\n",
       "      <th>18</th>\n",
       "      <td>/input/seafood/VIDEOS/snapper/2022/2022-08-10_...</td>\n",
       "      <td>29</td>\n",
       "      <td>21120</td>\n",
       "      <td>3349</td>\n",
       "      <td>3803</td>\n",
       "      <td>34.0</td>\n",
       "      <td>clear</td>\n",
       "      <td>bright</td>\n",
       "      <td>gopro</td>\n",
       "      <td>158.570076</td>\n",
       "    </tr>\n",
       "    <tr>\n",
       "      <th>19</th>\n",
       "      <td>/input/seafood/VIDEOS/snapper/2022/2022-08-02_...</td>\n",
       "      <td>29</td>\n",
       "      <td>15767</td>\n",
       "      <td>1744</td>\n",
       "      <td>1927</td>\n",
       "      <td>40.0</td>\n",
       "      <td>clear</td>\n",
       "      <td>bright</td>\n",
       "      <td>gopro</td>\n",
       "      <td>110.610769</td>\n",
       "    </tr>\n",
       "    <tr>\n",
       "      <th>20</th>\n",
       "      <td>/input/seafood/VIDEOS/snapper/2022/2022-08-02_...</td>\n",
       "      <td>29</td>\n",
       "      <td>21120</td>\n",
       "      <td>2622</td>\n",
       "      <td>2895</td>\n",
       "      <td>38.0</td>\n",
       "      <td>clear</td>\n",
       "      <td>bright</td>\n",
       "      <td>gopro</td>\n",
       "      <td>124.147727</td>\n",
       "    </tr>\n",
       "    <tr>\n",
       "      <th>21</th>\n",
       "      <td>/input/seafood/VIDEOS/snapper/2022/2022-08-02_...</td>\n",
       "      <td>29</td>\n",
       "      <td>21120</td>\n",
       "      <td>2345</td>\n",
       "      <td>2598</td>\n",
       "      <td>32.0</td>\n",
       "      <td>clear</td>\n",
       "      <td>bright</td>\n",
       "      <td>gopro</td>\n",
       "      <td>111.032197</td>\n",
       "    </tr>\n",
       "    <tr>\n",
       "      <th>22</th>\n",
       "      <td>/input/seafood/VIDEOS/snapper/2022/2022-03-15_...</td>\n",
       "      <td>29</td>\n",
       "      <td>10530</td>\n",
       "      <td>3227</td>\n",
       "      <td>4152</td>\n",
       "      <td>18.0</td>\n",
       "      <td>clear</td>\n",
       "      <td>bright</td>\n",
       "      <td>gopro</td>\n",
       "      <td>306.457740</td>\n",
       "    </tr>\n",
       "    <tr>\n",
       "      <th>23</th>\n",
       "      <td>/input/seafood/VIDEOS/snapper/2022/2022-02-16_...</td>\n",
       "      <td>29</td>\n",
       "      <td>9570</td>\n",
       "      <td>1794</td>\n",
       "      <td>2125</td>\n",
       "      <td>26.0</td>\n",
       "      <td>murky</td>\n",
       "      <td>bright</td>\n",
       "      <td>gopro</td>\n",
       "      <td>187.460815</td>\n",
       "    </tr>\n",
       "    <tr>\n",
       "      <th>24</th>\n",
       "      <td>/input/seafood/VIDEOS/snapper/2021/2021-12-09_...</td>\n",
       "      <td>59</td>\n",
       "      <td>19200</td>\n",
       "      <td>5246</td>\n",
       "      <td>7037</td>\n",
       "      <td>24.0</td>\n",
       "      <td>clear</td>\n",
       "      <td>bright</td>\n",
       "      <td>gopro</td>\n",
       "      <td>273.229167</td>\n",
       "    </tr>\n",
       "    <tr>\n",
       "      <th>25</th>\n",
       "      <td>/input/seafood/VIDEOS/snapper/2021/2021-11-12_...</td>\n",
       "      <td>59</td>\n",
       "      <td>19200</td>\n",
       "      <td>6521</td>\n",
       "      <td>12415</td>\n",
       "      <td>18.0</td>\n",
       "      <td>murky</td>\n",
       "      <td>dim</td>\n",
       "      <td>gopro</td>\n",
       "      <td>339.635417</td>\n",
       "    </tr>\n",
       "    <tr>\n",
       "      <th>26</th>\n",
       "      <td>/input/seafood/VIDEOS/snapper/2021/2021-11-03_...</td>\n",
       "      <td>59</td>\n",
       "      <td>19200</td>\n",
       "      <td>6753</td>\n",
       "      <td>9454</td>\n",
       "      <td>20.0</td>\n",
       "      <td>murky</td>\n",
       "      <td>dim</td>\n",
       "      <td>gopro</td>\n",
       "      <td>351.718750</td>\n",
       "    </tr>\n",
       "    <tr>\n",
       "      <th>27</th>\n",
       "      <td>/input/seafood/VIDEOS/snapper/2021/2021-09-10_...</td>\n",
       "      <td>59</td>\n",
       "      <td>31860</td>\n",
       "      <td>5994</td>\n",
       "      <td>6915</td>\n",
       "      <td>28.0</td>\n",
       "      <td>murky</td>\n",
       "      <td>dark</td>\n",
       "      <td>gopro</td>\n",
       "      <td>188.135593</td>\n",
       "    </tr>\n",
       "    <tr>\n",
       "      <th>28</th>\n",
       "      <td>/input/seafood/VIDEOS/snapper/2021/2021-09-03_...</td>\n",
       "      <td>59</td>\n",
       "      <td>25796</td>\n",
       "      <td>6592</td>\n",
       "      <td>15086</td>\n",
       "      <td>16.0</td>\n",
       "      <td>clear</td>\n",
       "      <td>bright</td>\n",
       "      <td>gopro</td>\n",
       "      <td>255.543495</td>\n",
       "    </tr>\n",
       "    <tr>\n",
       "      <th>29</th>\n",
       "      <td>/input/seafood/VIDEOS/snapper/2021/2021-09-03_...</td>\n",
       "      <td>59</td>\n",
       "      <td>31860</td>\n",
       "      <td>11115</td>\n",
       "      <td>26033</td>\n",
       "      <td>18.0</td>\n",
       "      <td>clear</td>\n",
       "      <td>bright</td>\n",
       "      <td>gopro</td>\n",
       "      <td>348.870056</td>\n",
       "    </tr>\n",
       "    <tr>\n",
       "      <th>30</th>\n",
       "      <td>/input/seafood/VIDEOS/snapper/2019/2019-03-07_...</td>\n",
       "      <td>29</td>\n",
       "      <td>13437</td>\n",
       "      <td>3748</td>\n",
       "      <td>4712</td>\n",
       "      <td>22.0</td>\n",
       "      <td>clear</td>\n",
       "      <td>bright</td>\n",
       "      <td>gopro</td>\n",
       "      <td>278.931309</td>\n",
       "    </tr>\n",
       "    <tr>\n",
       "      <th>31</th>\n",
       "      <td>/input/seafood/VIDEOS/snapper/2019/2019-03-07_...</td>\n",
       "      <td>29</td>\n",
       "      <td>17984</td>\n",
       "      <td>5319</td>\n",
       "      <td>6920</td>\n",
       "      <td>20.0</td>\n",
       "      <td>clear</td>\n",
       "      <td>bright</td>\n",
       "      <td>gopro</td>\n",
       "      <td>295.762900</td>\n",
       "    </tr>\n",
       "    <tr>\n",
       "      <th>32</th>\n",
       "      <td>/input/seafood/VIDEOS/snapper/2018/2018-06-28_...</td>\n",
       "      <td>59</td>\n",
       "      <td>51038</td>\n",
       "      <td>9455</td>\n",
       "      <td>10745</td>\n",
       "      <td>54.0</td>\n",
       "      <td>clear</td>\n",
       "      <td>bright</td>\n",
       "      <td>gopro</td>\n",
       "      <td>185.254124</td>\n",
       "    </tr>\n",
       "    <tr>\n",
       "      <th>33</th>\n",
       "      <td>/input/seafood/VIDEOS/snapper/2018/2018-06-28_...</td>\n",
       "      <td>59</td>\n",
       "      <td>63720</td>\n",
       "      <td>10667</td>\n",
       "      <td>11723</td>\n",
       "      <td>52.0</td>\n",
       "      <td>clear</td>\n",
       "      <td>bright</td>\n",
       "      <td>gopro</td>\n",
       "      <td>167.404269</td>\n",
       "    </tr>\n",
       "    <tr>\n",
       "      <th>34</th>\n",
       "      <td>/input/seafood/VIDEOS/snapper/2018/2018-06-28_...</td>\n",
       "      <td>59</td>\n",
       "      <td>35600</td>\n",
       "      <td>4343</td>\n",
       "      <td>4591</td>\n",
       "      <td>56.0</td>\n",
       "      <td>clear</td>\n",
       "      <td>bright</td>\n",
       "      <td>gopro</td>\n",
       "      <td>121.994382</td>\n",
       "    </tr>\n",
       "    <tr>\n",
       "      <th>35</th>\n",
       "      <td>/input/seafood/VIDEOS/snapper/2018/2018-06-28_...</td>\n",
       "      <td>59</td>\n",
       "      <td>63720</td>\n",
       "      <td>9017</td>\n",
       "      <td>9662</td>\n",
       "      <td>80.0</td>\n",
       "      <td>clear</td>\n",
       "      <td>bright</td>\n",
       "      <td>gopro</td>\n",
       "      <td>141.509730</td>\n",
       "    </tr>\n",
       "    <tr>\n",
       "      <th>36</th>\n",
       "      <td>/input/seafood/VIDEOS/snapper/2018/2018-06-28_...</td>\n",
       "      <td>59</td>\n",
       "      <td>63720</td>\n",
       "      <td>5568</td>\n",
       "      <td>5696</td>\n",
       "      <td>106.0</td>\n",
       "      <td>clear</td>\n",
       "      <td>bright</td>\n",
       "      <td>gopro</td>\n",
       "      <td>87.382298</td>\n",
       "    </tr>\n",
       "    <tr>\n",
       "      <th>37</th>\n",
       "      <td>/input/seafood/VIDEOS/snapper/2018/2018-06-27_...</td>\n",
       "      <td>59</td>\n",
       "      <td>18209</td>\n",
       "      <td>1022</td>\n",
       "      <td>1034</td>\n",
       "      <td>138.0</td>\n",
       "      <td>clear</td>\n",
       "      <td>bright</td>\n",
       "      <td>gopro</td>\n",
       "      <td>56.126091</td>\n",
       "    </tr>\n",
       "    <tr>\n",
       "      <th>38</th>\n",
       "      <td>/input/seafood/VIDEOS/snapper/2018/2018-06-27_...</td>\n",
       "      <td>59</td>\n",
       "      <td>63720</td>\n",
       "      <td>3342</td>\n",
       "      <td>3373</td>\n",
       "      <td>134.0</td>\n",
       "      <td>clear</td>\n",
       "      <td>bright</td>\n",
       "      <td>gopro</td>\n",
       "      <td>52.448211</td>\n",
       "    </tr>\n",
       "    <tr>\n",
       "      <th>39</th>\n",
       "      <td>/input/seafood/VIDEOS/snapper/2018/2018-06-27_...</td>\n",
       "      <td>59</td>\n",
       "      <td>63720</td>\n",
       "      <td>591</td>\n",
       "      <td>591</td>\n",
       "      <td>234.0</td>\n",
       "      <td>clear</td>\n",
       "      <td>bright</td>\n",
       "      <td>gopro</td>\n",
       "      <td>9.274953</td>\n",
       "    </tr>\n",
       "    <tr>\n",
       "      <th>40</th>\n",
       "      <td>/workspace/hrrmxb/Jan-Feb/SHD_8f03-1643670176.mp4</td>\n",
       "      <td>15</td>\n",
       "      <td>10881</td>\n",
       "      <td>170</td>\n",
       "      <td>179</td>\n",
       "      <td>49.0</td>\n",
       "      <td>clear</td>\n",
       "      <td>bright</td>\n",
       "      <td>snapit</td>\n",
       "      <td>15.623564</td>\n",
       "    </tr>\n",
       "    <tr>\n",
       "      <th>41</th>\n",
       "      <td>/workspace/hrrmxb/Jan-Feb/SHD_8f03-1643673600.mp4</td>\n",
       "      <td>15</td>\n",
       "      <td>13500</td>\n",
       "      <td>144</td>\n",
       "      <td>156</td>\n",
       "      <td>162.0</td>\n",
       "      <td>clear</td>\n",
       "      <td>bright</td>\n",
       "      <td>snapit</td>\n",
       "      <td>10.666667</td>\n",
       "    </tr>\n",
       "    <tr>\n",
       "      <th>42</th>\n",
       "      <td>/workspace/hrrmxb/Jan-Feb/SHD_8f03-1643675400.mp4</td>\n",
       "      <td>15</td>\n",
       "      <td>13501</td>\n",
       "      <td>94</td>\n",
       "      <td>96</td>\n",
       "      <td>74.0</td>\n",
       "      <td>clear</td>\n",
       "      <td>bright</td>\n",
       "      <td>snapit</td>\n",
       "      <td>6.962447</td>\n",
       "    </tr>\n",
       "    <tr>\n",
       "      <th>43</th>\n",
       "      <td>/workspace/hrrmxb/Jan-Feb/SHD_8f03-1643936400.mp4</td>\n",
       "      <td>15</td>\n",
       "      <td>288</td>\n",
       "      <td>44</td>\n",
       "      <td>56</td>\n",
       "      <td>22.0</td>\n",
       "      <td>clear</td>\n",
       "      <td>bright</td>\n",
       "      <td>snapit</td>\n",
       "      <td>152.777778</td>\n",
       "    </tr>\n",
       "    <tr>\n",
       "      <th>44</th>\n",
       "      <td>/workspace/hrrmxb/Aug/SHD_8f03-1659571200.mp4</td>\n",
       "      <td>15</td>\n",
       "      <td>13501</td>\n",
       "      <td>484</td>\n",
       "      <td>496</td>\n",
       "      <td>74.0</td>\n",
       "      <td>clear</td>\n",
       "      <td>dim</td>\n",
       "      <td>snapit</td>\n",
       "      <td>35.849196</td>\n",
       "    </tr>\n",
       "    <tr>\n",
       "      <th>45</th>\n",
       "      <td>/workspace/hrrmxb/Aug/SHD_8f03-1659572100.mp4</td>\n",
       "      <td>15</td>\n",
       "      <td>13500</td>\n",
       "      <td>964</td>\n",
       "      <td>1032</td>\n",
       "      <td>72.0</td>\n",
       "      <td>clear</td>\n",
       "      <td>dim</td>\n",
       "      <td>snapit</td>\n",
       "      <td>71.407407</td>\n",
       "    </tr>\n",
       "    <tr>\n",
       "      <th>46</th>\n",
       "      <td>/workspace/hrrmxb/Aug/SHD_8f03-1659830400.mp4</td>\n",
       "      <td>15</td>\n",
       "      <td>13500</td>\n",
       "      <td>572</td>\n",
       "      <td>589</td>\n",
       "      <td>110.0</td>\n",
       "      <td>clear</td>\n",
       "      <td>dim</td>\n",
       "      <td>snapit</td>\n",
       "      <td>42.370370</td>\n",
       "    </tr>\n",
       "    <tr>\n",
       "      <th>47</th>\n",
       "      <td>/workspace/hrrmxb/Aug/SHD_8f03-1659831300.mp4</td>\n",
       "      <td>15</td>\n",
       "      <td>13501</td>\n",
       "      <td>559</td>\n",
       "      <td>582</td>\n",
       "      <td>87.0</td>\n",
       "      <td>clear</td>\n",
       "      <td>dim</td>\n",
       "      <td>snapit</td>\n",
       "      <td>41.404340</td>\n",
       "    </tr>\n",
       "  </tbody>\n",
       "</table>\n",
       "</div>"
      ],
      "text/plain": [
       "                                             FileName  FrameRate  \\\n",
       "0   /input/seafood/VIDEOS/snapper/2022/2022-12-20_...         29   \n",
       "1   /input/seafood/VIDEOS/snapper/2022/2022-12-20_...         29   \n",
       "2   /input/seafood/VIDEOS/snapper/2022/2022-12-20_...         29   \n",
       "3   /input/seafood/VIDEOS/snapper/2022/2022-12-20_...         29   \n",
       "4   /input/seafood/VIDEOS/snapper/2022/2022-11-16_...         29   \n",
       "5   /input/seafood/VIDEOS/snapper/2022/2022-11-16_...         29   \n",
       "6   /input/seafood/VIDEOS/snapper/2022/2022-11-15_...         29   \n",
       "7   /input/seafood/VIDEOS/snapper/2022/2022-11-15_...         29   \n",
       "8   /input/seafood/VIDEOS/snapper/2022/2022-11-15_...         29   \n",
       "9   /input/seafood/VIDEOS/snapper/2022/2022-11-15_...         29   \n",
       "10  /input/seafood/VIDEOS/snapper/2022/2022-09-09_...         29   \n",
       "11  /input/seafood/VIDEOS/snapper/2022/2022-09-09_...         29   \n",
       "12  /input/seafood/VIDEOS/snapper/2022/2022-09-06_...         29   \n",
       "13  /input/seafood/VIDEOS/snapper/2022/2022-09-06_...         29   \n",
       "14  /input/seafood/VIDEOS/snapper/2022/2022-08-10_...         29   \n",
       "15  /input/seafood/VIDEOS/snapper/2022/2022-08-10_...         29   \n",
       "16  /input/seafood/VIDEOS/snapper/2022/2022-08-10_...         29   \n",
       "17  /input/seafood/VIDEOS/snapper/2022/2022-08-10_...         29   \n",
       "18  /input/seafood/VIDEOS/snapper/2022/2022-08-10_...         29   \n",
       "19  /input/seafood/VIDEOS/snapper/2022/2022-08-02_...         29   \n",
       "20  /input/seafood/VIDEOS/snapper/2022/2022-08-02_...         29   \n",
       "21  /input/seafood/VIDEOS/snapper/2022/2022-08-02_...         29   \n",
       "22  /input/seafood/VIDEOS/snapper/2022/2022-03-15_...         29   \n",
       "23  /input/seafood/VIDEOS/snapper/2022/2022-02-16_...         29   \n",
       "24  /input/seafood/VIDEOS/snapper/2021/2021-12-09_...         59   \n",
       "25  /input/seafood/VIDEOS/snapper/2021/2021-11-12_...         59   \n",
       "26  /input/seafood/VIDEOS/snapper/2021/2021-11-03_...         59   \n",
       "27  /input/seafood/VIDEOS/snapper/2021/2021-09-10_...         59   \n",
       "28  /input/seafood/VIDEOS/snapper/2021/2021-09-03_...         59   \n",
       "29  /input/seafood/VIDEOS/snapper/2021/2021-09-03_...         59   \n",
       "30  /input/seafood/VIDEOS/snapper/2019/2019-03-07_...         29   \n",
       "31  /input/seafood/VIDEOS/snapper/2019/2019-03-07_...         29   \n",
       "32  /input/seafood/VIDEOS/snapper/2018/2018-06-28_...         59   \n",
       "33  /input/seafood/VIDEOS/snapper/2018/2018-06-28_...         59   \n",
       "34  /input/seafood/VIDEOS/snapper/2018/2018-06-28_...         59   \n",
       "35  /input/seafood/VIDEOS/snapper/2018/2018-06-28_...         59   \n",
       "36  /input/seafood/VIDEOS/snapper/2018/2018-06-28_...         59   \n",
       "37  /input/seafood/VIDEOS/snapper/2018/2018-06-27_...         59   \n",
       "38  /input/seafood/VIDEOS/snapper/2018/2018-06-27_...         59   \n",
       "39  /input/seafood/VIDEOS/snapper/2018/2018-06-27_...         59   \n",
       "40  /workspace/hrrmxb/Jan-Feb/SHD_8f03-1643670176.mp4         15   \n",
       "41  /workspace/hrrmxb/Jan-Feb/SHD_8f03-1643673600.mp4         15   \n",
       "42  /workspace/hrrmxb/Jan-Feb/SHD_8f03-1643675400.mp4         15   \n",
       "43  /workspace/hrrmxb/Jan-Feb/SHD_8f03-1643936400.mp4         15   \n",
       "44      /workspace/hrrmxb/Aug/SHD_8f03-1659571200.mp4         15   \n",
       "45      /workspace/hrrmxb/Aug/SHD_8f03-1659572100.mp4         15   \n",
       "46      /workspace/hrrmxb/Aug/SHD_8f03-1659830400.mp4         15   \n",
       "47      /workspace/hrrmxb/Aug/SHD_8f03-1659831300.mp4         15   \n",
       "\n",
       "    TotalNumFrames  NumFramesWithIndividuals  NumOfIndividuals  MedianGap  \\\n",
       "0             3060                       193               207       32.0   \n",
       "1             9720                      1155              1309       22.0   \n",
       "2             3666                       673               819       18.0   \n",
       "3             9600                      1794              2187       18.0   \n",
       "4              928                       283               388       14.0   \n",
       "5              918                       263               366       16.0   \n",
       "6             1628                       130               152       28.0   \n",
       "7             4273                       221               235       43.0   \n",
       "8             2281                       224               260       24.0   \n",
       "9             4543                      1013              1362       17.0   \n",
       "10           16704                        23                23     1040.0   \n",
       "11           69120                      1074              1083      127.0   \n",
       "12            7601                      2787              5076       18.0   \n",
       "13            8427                      3092              5137       14.0   \n",
       "14           15537                      3091              3568       28.0   \n",
       "15           21120                      3772              4254       34.0   \n",
       "16           21120                      3303              3701       34.0   \n",
       "17             132                         0                 0        NaN   \n",
       "18           21120                      3349              3803       34.0   \n",
       "19           15767                      1744              1927       40.0   \n",
       "20           21120                      2622              2895       38.0   \n",
       "21           21120                      2345              2598       32.0   \n",
       "22           10530                      3227              4152       18.0   \n",
       "23            9570                      1794              2125       26.0   \n",
       "24           19200                      5246              7037       24.0   \n",
       "25           19200                      6521             12415       18.0   \n",
       "26           19200                      6753              9454       20.0   \n",
       "27           31860                      5994              6915       28.0   \n",
       "28           25796                      6592             15086       16.0   \n",
       "29           31860                     11115             26033       18.0   \n",
       "30           13437                      3748              4712       22.0   \n",
       "31           17984                      5319              6920       20.0   \n",
       "32           51038                      9455             10745       54.0   \n",
       "33           63720                     10667             11723       52.0   \n",
       "34           35600                      4343              4591       56.0   \n",
       "35           63720                      9017              9662       80.0   \n",
       "36           63720                      5568              5696      106.0   \n",
       "37           18209                      1022              1034      138.0   \n",
       "38           63720                      3342              3373      134.0   \n",
       "39           63720                       591               591      234.0   \n",
       "40           10881                       170               179       49.0   \n",
       "41           13500                       144               156      162.0   \n",
       "42           13501                        94                96       74.0   \n",
       "43             288                        44                56       22.0   \n",
       "44           13501                       484               496       74.0   \n",
       "45           13500                       964              1032       72.0   \n",
       "46           13500                       572               589      110.0   \n",
       "47           13501                       559               582       87.0   \n",
       "\n",
       "   WaterQuality Brightness  Camera  ObservationRatePer1000  \n",
       "0         clear     bright   gopro               63.071895  \n",
       "1         clear     bright   gopro              118.827160  \n",
       "2         clear     bright   gopro              183.578833  \n",
       "3         clear     bright   gopro              186.875000  \n",
       "4         murky        dim   phone              304.956897  \n",
       "5         murky        dim   phone              286.492375  \n",
       "6         murky     bright   gopro               79.852580  \n",
       "7         murky     bright   gopro               51.720103  \n",
       "8         murky     bright   gopro               98.202543  \n",
       "9         murky     bright   gopro              222.980409  \n",
       "10        murky        dim   gopro                1.376916  \n",
       "11        murky        dim   gopro               15.538194  \n",
       "12        clear     bright   gopro              366.662281  \n",
       "13        clear     bright   gopro              366.915866  \n",
       "14        clear     bright   gopro              198.944455  \n",
       "15        clear     bright   gopro              178.598485  \n",
       "16        clear     bright   gopro              156.392045  \n",
       "17           NA         NA   gopro                0.000000  \n",
       "18        clear     bright   gopro              158.570076  \n",
       "19        clear     bright   gopro              110.610769  \n",
       "20        clear     bright   gopro              124.147727  \n",
       "21        clear     bright   gopro              111.032197  \n",
       "22        clear     bright   gopro              306.457740  \n",
       "23        murky     bright   gopro              187.460815  \n",
       "24        clear     bright   gopro              273.229167  \n",
       "25        murky        dim   gopro              339.635417  \n",
       "26        murky        dim   gopro              351.718750  \n",
       "27        murky       dark   gopro              188.135593  \n",
       "28        clear     bright   gopro              255.543495  \n",
       "29        clear     bright   gopro              348.870056  \n",
       "30        clear     bright   gopro              278.931309  \n",
       "31        clear     bright   gopro              295.762900  \n",
       "32        clear     bright   gopro              185.254124  \n",
       "33        clear     bright   gopro              167.404269  \n",
       "34        clear     bright   gopro              121.994382  \n",
       "35        clear     bright   gopro              141.509730  \n",
       "36        clear     bright   gopro               87.382298  \n",
       "37        clear     bright   gopro               56.126091  \n",
       "38        clear     bright   gopro               52.448211  \n",
       "39        clear     bright   gopro                9.274953  \n",
       "40        clear     bright  snapit               15.623564  \n",
       "41        clear     bright  snapit               10.666667  \n",
       "42        clear     bright  snapit                6.962447  \n",
       "43        clear     bright  snapit              152.777778  \n",
       "44        clear        dim  snapit               35.849196  \n",
       "45        clear        dim  snapit               71.407407  \n",
       "46        clear        dim  snapit               42.370370  \n",
       "47        clear        dim  snapit               41.404340  "
      ]
     },
     "execution_count": 10,
     "metadata": {},
     "output_type": "execute_result"
    }
   ],
   "source": [
    "rows = []\n",
    "for video_path in video_paths:\n",
    "    rows.append(\n",
    "        (\n",
    "            video_path,\n",
    "            framerates[video_path.stem],\n",
    "            # video_path.parts[5],  # Extract year from path\n",
    "            total_num_frames[video_path.stem],\n",
    "            num_frames_with_obs[video_path.stem],\n",
    "            num_individuals[video_path.stem],  # Add total number of observations (will be higher than total number of frames with observations)\n",
    "            median_frames_between_obs[video_path.stem],  # Add median number of frames between successive observations\n",
    "            *video_qualities[video_path.stem]\n",
    "        )\n",
    "    )\n",
    "\n",
    "videos_df = pd.DataFrame(\n",
    "    rows,\n",
    "    columns=[\"FileName\", \"FrameRate\", \"TotalNumFrames\", \"NumFramesWithIndividuals\", \"NumOfIndividuals\", \"MedianGap\", \"WaterQuality\", \"Brightness\", \"Camera\" ],\n",
    ")\n",
    "\n",
    "videos_df[\"ObservationRatePer1000\"] = videos_df[\"NumFramesWithIndividuals\"] / videos_df[\"TotalNumFrames\"] * 1000\n",
    "\n",
    "videos_df.to_csv(\"videos_df.csv\", index=False)\n",
    "\n",
    "videos_df"
   ]
  },
  {
   "cell_type": "markdown",
   "id": "0e3b806e-6301-4d62-8ce9-18e67bd4d86c",
   "metadata": {},
   "source": [
    "## Find number of spots per observation:\n",
    "median number of spots per video "
   ]
  },
  {
   "cell_type": "code",
   "execution_count": 20,
   "id": "1237eba2-2d91-407b-9eea-89a2aff14433",
   "metadata": {},
   "outputs": [
    {
     "data": {
      "application/vnd.jupyter.widget-view+json": {
       "model_id": "7113fe1dce9147a78a458214279b3e00",
       "version_major": 2,
       "version_minor": 0
      },
      "text/plain": [
       "  0%|          | 0/48 [00:00<?, ?it/s]"
      ]
     },
     "metadata": {},
     "output_type": "display_data"
    },
    {
     "data": {
      "application/vnd.jupyter.widget-view+json": {
       "model_id": "fe3f6181f5d8472c82b6db955a89157c",
       "version_major": 2,
       "version_minor": 0
      },
      "text/plain": [
       "  0%|          | 0/26033 [00:00<?, ?it/s]"
      ]
     },
     "metadata": {},
     "output_type": "display_data"
    },
    {
     "data": {
      "application/vnd.jupyter.widget-view+json": {
       "model_id": "e74aad54a01e4331a68c4da2a99d7ded",
       "version_major": 2,
       "version_minor": 0
      },
      "text/plain": [
       "  0%|          | 0/15086 [00:00<?, ?it/s]"
      ]
     },
     "metadata": {},
     "output_type": "display_data"
    },
    {
     "data": {
      "application/vnd.jupyter.widget-view+json": {
       "model_id": "d4ab564602e747e7922ae56a53e2ca97",
       "version_major": 2,
       "version_minor": 0
      },
      "text/plain": [
       "  0%|          | 0/6915 [00:00<?, ?it/s]"
      ]
     },
     "metadata": {},
     "output_type": "display_data"
    },
    {
     "data": {
      "application/vnd.jupyter.widget-view+json": {
       "model_id": "9cbddcac527a4c02844c134d18720458",
       "version_major": 2,
       "version_minor": 0
      },
      "text/plain": [
       "  0%|          | 0/9454 [00:00<?, ?it/s]"
      ]
     },
     "metadata": {},
     "output_type": "display_data"
    },
    {
     "data": {
      "application/vnd.jupyter.widget-view+json": {
       "model_id": "00e899a8ba8844849a751e83fbed4678",
       "version_major": 2,
       "version_minor": 0
      },
      "text/plain": [
       "  0%|          | 0/12415 [00:00<?, ?it/s]"
      ]
     },
     "metadata": {},
     "output_type": "display_data"
    },
    {
     "data": {
      "application/vnd.jupyter.widget-view+json": {
       "model_id": "0172c755aa764fac92fadfd8a00c8dd7",
       "version_major": 2,
       "version_minor": 0
      },
      "text/plain": [
       "  0%|          | 0/7037 [00:00<?, ?it/s]"
      ]
     },
     "metadata": {},
     "output_type": "display_data"
    },
    {
     "data": {
      "application/vnd.jupyter.widget-view+json": {
       "model_id": "53791537f80e4d09bdd4a6f2307730cd",
       "version_major": 2,
       "version_minor": 0
      },
      "text/plain": [
       "  0%|          | 0/4152 [00:00<?, ?it/s]"
      ]
     },
     "metadata": {},
     "output_type": "display_data"
    },
    {
     "data": {
      "application/vnd.jupyter.widget-view+json": {
       "model_id": "60c1fa183be04d63973e9ba58eacba24",
       "version_major": 2,
       "version_minor": 0
      },
      "text/plain": [
       "  0%|          | 0/388 [00:00<?, ?it/s]"
      ]
     },
     "metadata": {},
     "output_type": "display_data"
    },
    {
     "data": {
      "application/vnd.jupyter.widget-view+json": {
       "model_id": "1760026044bf4ef69c3a5384daa5385f",
       "version_major": 2,
       "version_minor": 0
      },
      "text/plain": [
       "  0%|          | 0/366 [00:00<?, ?it/s]"
      ]
     },
     "metadata": {},
     "output_type": "display_data"
    },
    {
     "data": {
      "application/vnd.jupyter.widget-view+json": {
       "model_id": "4a811f49f98f4b2aa6315102a381afe7",
       "version_major": 2,
       "version_minor": 0
      },
      "text/plain": [
       "  0%|          | 0/6920 [00:00<?, ?it/s]"
      ]
     },
     "metadata": {},
     "output_type": "display_data"
    },
    {
     "data": {
      "application/vnd.jupyter.widget-view+json": {
       "model_id": "aa2ac613670e4442a0096c004d0cf684",
       "version_major": 2,
       "version_minor": 0
      },
      "text/plain": [
       "  0%|          | 0/4712 [00:00<?, ?it/s]"
      ]
     },
     "metadata": {},
     "output_type": "display_data"
    },
    {
     "data": {
      "application/vnd.jupyter.widget-view+json": {
       "model_id": "630d321f3a304ed9adff8524c4a488af",
       "version_major": 2,
       "version_minor": 0
      },
      "text/plain": [
       "  0%|          | 0/2125 [00:00<?, ?it/s]"
      ]
     },
     "metadata": {},
     "output_type": "display_data"
    },
    {
     "data": {
      "application/vnd.jupyter.widget-view+json": {
       "model_id": "7223b762febf4055b5c1b39058e1fed0",
       "version_major": 2,
       "version_minor": 0
      },
      "text/plain": [
       "  0%|          | 0/591 [00:00<?, ?it/s]"
      ]
     },
     "metadata": {},
     "output_type": "display_data"
    },
    {
     "data": {
      "application/vnd.jupyter.widget-view+json": {
       "model_id": "4f8f9e0f35f74d0a9a0f3d839de4b038",
       "version_major": 2,
       "version_minor": 0
      },
      "text/plain": [
       "  0%|          | 0/5696 [00:00<?, ?it/s]"
      ]
     },
     "metadata": {},
     "output_type": "display_data"
    },
    {
     "data": {
      "application/vnd.jupyter.widget-view+json": {
       "model_id": "bd62340be3654e928fcb41dfaed34e29",
       "version_major": 2,
       "version_minor": 0
      },
      "text/plain": [
       "  0%|          | 0/11723 [00:00<?, ?it/s]"
      ]
     },
     "metadata": {},
     "output_type": "display_data"
    },
    {
     "data": {
      "application/vnd.jupyter.widget-view+json": {
       "model_id": "431314c9770a4bb2951b1f71ebe940b0",
       "version_major": 2,
       "version_minor": 0
      },
      "text/plain": [
       "  0%|          | 0/3373 [00:00<?, ?it/s]"
      ]
     },
     "metadata": {},
     "output_type": "display_data"
    },
    {
     "data": {
      "application/vnd.jupyter.widget-view+json": {
       "model_id": "a1e329215c964682a23a8a1d8d7cb2c8",
       "version_major": 2,
       "version_minor": 0
      },
      "text/plain": [
       "  0%|          | 0/9662 [00:00<?, ?it/s]"
      ]
     },
     "metadata": {},
     "output_type": "display_data"
    },
    {
     "data": {
      "application/vnd.jupyter.widget-view+json": {
       "model_id": "942ecc11422d4635b770bc34c596eed6",
       "version_major": 2,
       "version_minor": 0
      },
      "text/plain": [
       "  0%|          | 0/10745 [00:00<?, ?it/s]"
      ]
     },
     "metadata": {},
     "output_type": "display_data"
    },
    {
     "data": {
      "application/vnd.jupyter.widget-view+json": {
       "model_id": "a85dd702bcb04837968e02b48f506bbe",
       "version_major": 2,
       "version_minor": 0
      },
      "text/plain": [
       "  0%|          | 0/1034 [00:00<?, ?it/s]"
      ]
     },
     "metadata": {},
     "output_type": "display_data"
    },
    {
     "data": {
      "application/vnd.jupyter.widget-view+json": {
       "model_id": "c19985928c3a46dc8300e81572acae64",
       "version_major": 2,
       "version_minor": 0
      },
      "text/plain": [
       "  0%|          | 0/4591 [00:00<?, ?it/s]"
      ]
     },
     "metadata": {},
     "output_type": "display_data"
    },
    {
     "data": {
      "application/vnd.jupyter.widget-view+json": {
       "model_id": "e1a363e639504fc9b85ba42ed9030a90",
       "version_major": 2,
       "version_minor": 0
      },
      "text/plain": [
       "  0%|          | 0/1083 [00:00<?, ?it/s]"
      ]
     },
     "metadata": {},
     "output_type": "display_data"
    },
    {
     "data": {
      "application/vnd.jupyter.widget-view+json": {
       "model_id": "08aac5aed2ee4e6796b731c148ff7fce",
       "version_major": 2,
       "version_minor": 0
      },
      "text/plain": [
       "  0%|          | 0/2598 [00:00<?, ?it/s]"
      ]
     },
     "metadata": {},
     "output_type": "display_data"
    },
    {
     "data": {
      "application/vnd.jupyter.widget-view+json": {
       "model_id": "5ee4616c859a419db67ba23e566911e4",
       "version_major": 2,
       "version_minor": 0
      },
      "text/plain": [
       "  0%|          | 0/3803 [00:00<?, ?it/s]"
      ]
     },
     "metadata": {},
     "output_type": "display_data"
    },
    {
     "data": {
      "application/vnd.jupyter.widget-view+json": {
       "model_id": "8e9b2f9404f346dd84bd49faaa16d1e8",
       "version_major": 2,
       "version_minor": 0
      },
      "text/plain": [
       "0it [00:00, ?it/s]"
      ]
     },
     "metadata": {},
     "output_type": "display_data"
    },
    {
     "data": {
      "application/vnd.jupyter.widget-view+json": {
       "model_id": "4d124297d5ea4159aca775e356844656",
       "version_major": 2,
       "version_minor": 0
      },
      "text/plain": [
       "  0%|          | 0/5137 [00:00<?, ?it/s]"
      ]
     },
     "metadata": {},
     "output_type": "display_data"
    },
    {
     "data": {
      "application/vnd.jupyter.widget-view+json": {
       "model_id": "e4211f3613844f9db9f7a1297872e341",
       "version_major": 2,
       "version_minor": 0
      },
      "text/plain": [
       "  0%|          | 0/5076 [00:00<?, ?it/s]"
      ]
     },
     "metadata": {},
     "output_type": "display_data"
    },
    {
     "data": {
      "application/vnd.jupyter.widget-view+json": {
       "model_id": "c21c5182ce3f498e9a582ad1813e05e0",
       "version_major": 2,
       "version_minor": 0
      },
      "text/plain": [
       "  0%|          | 0/2187 [00:00<?, ?it/s]"
      ]
     },
     "metadata": {},
     "output_type": "display_data"
    },
    {
     "data": {
      "application/vnd.jupyter.widget-view+json": {
       "model_id": "ec0247a59ed146c1b8d2e8b0266dee19",
       "version_major": 2,
       "version_minor": 0
      },
      "text/plain": [
       "  0%|          | 0/1309 [00:00<?, ?it/s]"
      ]
     },
     "metadata": {},
     "output_type": "display_data"
    },
    {
     "data": {
      "application/vnd.jupyter.widget-view+json": {
       "model_id": "834c7b50b8be48d7b050a07df3cc9657",
       "version_major": 2,
       "version_minor": 0
      },
      "text/plain": [
       "  0%|          | 0/1362 [00:00<?, ?it/s]"
      ]
     },
     "metadata": {},
     "output_type": "display_data"
    },
    {
     "data": {
      "application/vnd.jupyter.widget-view+json": {
       "model_id": "7e127141d45c4e879d127f04fb5daddf",
       "version_major": 2,
       "version_minor": 0
      },
      "text/plain": [
       "  0%|          | 0/235 [00:00<?, ?it/s]"
      ]
     },
     "metadata": {},
     "output_type": "display_data"
    },
    {
     "data": {
      "application/vnd.jupyter.widget-view+json": {
       "model_id": "571613fa8f984c01b7d1b5f50058ddce",
       "version_major": 2,
       "version_minor": 0
      },
      "text/plain": [
       "  0%|          | 0/260 [00:00<?, ?it/s]"
      ]
     },
     "metadata": {},
     "output_type": "display_data"
    },
    {
     "data": {
      "application/vnd.jupyter.widget-view+json": {
       "model_id": "11271ffb84d24c7a8e18920d438a52fd",
       "version_major": 2,
       "version_minor": 0
      },
      "text/plain": [
       "  0%|          | 0/152 [00:00<?, ?it/s]"
      ]
     },
     "metadata": {},
     "output_type": "display_data"
    },
    {
     "data": {
      "application/vnd.jupyter.widget-view+json": {
       "model_id": "d7372e7f316f40229d0dd60c4cd11265",
       "version_major": 2,
       "version_minor": 0
      },
      "text/plain": [
       "  0%|          | 0/23 [00:00<?, ?it/s]"
      ]
     },
     "metadata": {},
     "output_type": "display_data"
    },
    {
     "data": {
      "application/vnd.jupyter.widget-view+json": {
       "model_id": "e216a6f21da8410eb0aba72cf8d0a19d",
       "version_major": 2,
       "version_minor": 0
      },
      "text/plain": [
       "  0%|          | 0/2895 [00:00<?, ?it/s]"
      ]
     },
     "metadata": {},
     "output_type": "display_data"
    },
    {
     "data": {
      "application/vnd.jupyter.widget-view+json": {
       "model_id": "a28f344650814bc58fb1d2ea21d86db0",
       "version_major": 2,
       "version_minor": 0
      },
      "text/plain": [
       "  0%|          | 0/3701 [00:00<?, ?it/s]"
      ]
     },
     "metadata": {},
     "output_type": "display_data"
    },
    {
     "data": {
      "application/vnd.jupyter.widget-view+json": {
       "model_id": "b8402cd9fcd841899fac9afc75b765e7",
       "version_major": 2,
       "version_minor": 0
      },
      "text/plain": [
       "  0%|          | 0/819 [00:00<?, ?it/s]"
      ]
     },
     "metadata": {},
     "output_type": "display_data"
    },
    {
     "data": {
      "application/vnd.jupyter.widget-view+json": {
       "model_id": "58a0de80f9d3485d9de07e2431b8fe34",
       "version_major": 2,
       "version_minor": 0
      },
      "text/plain": [
       "  0%|          | 0/207 [00:00<?, ?it/s]"
      ]
     },
     "metadata": {},
     "output_type": "display_data"
    },
    {
     "data": {
      "application/vnd.jupyter.widget-view+json": {
       "model_id": "1fcb590a69d44cbaa350287a9f92e2df",
       "version_major": 2,
       "version_minor": 0
      },
      "text/plain": [
       "  0%|          | 0/1927 [00:00<?, ?it/s]"
      ]
     },
     "metadata": {},
     "output_type": "display_data"
    },
    {
     "data": {
      "application/vnd.jupyter.widget-view+json": {
       "model_id": "e7ff319bc8a44715b3bb97ef405e4aeb",
       "version_major": 2,
       "version_minor": 0
      },
      "text/plain": [
       "  0%|          | 0/4254 [00:00<?, ?it/s]"
      ]
     },
     "metadata": {},
     "output_type": "display_data"
    },
    {
     "data": {
      "application/vnd.jupyter.widget-view+json": {
       "model_id": "1291dbdb2c7d437c848ea90d13b5fc5e",
       "version_major": 2,
       "version_minor": 0
      },
      "text/plain": [
       "  0%|          | 0/3568 [00:00<?, ?it/s]"
      ]
     },
     "metadata": {},
     "output_type": "display_data"
    },
    {
     "data": {
      "application/vnd.jupyter.widget-view+json": {
       "model_id": "f3fa0d8cfe0d4d0887bb56056514bc08",
       "version_major": 2,
       "version_minor": 0
      },
      "text/plain": [
       "  0%|          | 0/179 [00:00<?, ?it/s]"
      ]
     },
     "metadata": {},
     "output_type": "display_data"
    },
    {
     "data": {
      "application/vnd.jupyter.widget-view+json": {
       "model_id": "604a30d6f0a44f3da89091b4e8f2e2b2",
       "version_major": 2,
       "version_minor": 0
      },
      "text/plain": [
       "  0%|          | 0/156 [00:00<?, ?it/s]"
      ]
     },
     "metadata": {},
     "output_type": "display_data"
    },
    {
     "data": {
      "application/vnd.jupyter.widget-view+json": {
       "model_id": "f8e17051e664470380df307e5ed4270a",
       "version_major": 2,
       "version_minor": 0
      },
      "text/plain": [
       "  0%|          | 0/96 [00:00<?, ?it/s]"
      ]
     },
     "metadata": {},
     "output_type": "display_data"
    },
    {
     "data": {
      "application/vnd.jupyter.widget-view+json": {
       "model_id": "da2fe3ab0d9f4f36a56f68dfbcf33aa5",
       "version_major": 2,
       "version_minor": 0
      },
      "text/plain": [
       "  0%|          | 0/56 [00:00<?, ?it/s]"
      ]
     },
     "metadata": {},
     "output_type": "display_data"
    },
    {
     "data": {
      "application/vnd.jupyter.widget-view+json": {
       "model_id": "70fab3b0f0db4b96bdab2cbd2b68febf",
       "version_major": 2,
       "version_minor": 0
      },
      "text/plain": [
       "  0%|          | 0/496 [00:00<?, ?it/s]"
      ]
     },
     "metadata": {},
     "output_type": "display_data"
    },
    {
     "data": {
      "application/vnd.jupyter.widget-view+json": {
       "model_id": "864fdb54d54d455f840ebb5d73aaba9f",
       "version_major": 2,
       "version_minor": 0
      },
      "text/plain": [
       "  0%|          | 0/1032 [00:00<?, ?it/s]"
      ]
     },
     "metadata": {},
     "output_type": "display_data"
    },
    {
     "data": {
      "application/vnd.jupyter.widget-view+json": {
       "model_id": "bd7dc84b2c85413dacd9f9b90465a7c3",
       "version_major": 2,
       "version_minor": 0
      },
      "text/plain": [
       "  0%|          | 0/589 [00:00<?, ?it/s]"
      ]
     },
     "metadata": {},
     "output_type": "display_data"
    },
    {
     "data": {
      "application/vnd.jupyter.widget-view+json": {
       "model_id": "417c8845dccf4dafb0e1c58e32f6cc0b",
       "version_major": 2,
       "version_minor": 0
      },
      "text/plain": [
       "  0%|          | 0/582 [00:00<?, ?it/s]"
      ]
     },
     "metadata": {},
     "output_type": "display_data"
    },
    {
     "data": {
      "text/html": [
       "<div>\n",
       "<style scoped>\n",
       "    .dataframe tbody tr th:only-of-type {\n",
       "        vertical-align: middle;\n",
       "    }\n",
       "\n",
       "    .dataframe tbody tr th {\n",
       "        vertical-align: top;\n",
       "    }\n",
       "\n",
       "    .dataframe thead th {\n",
       "        text-align: right;\n",
       "    }\n",
       "</style>\n",
       "<table border=\"1\" class=\"dataframe\">\n",
       "  <thead>\n",
       "    <tr style=\"text-align: right;\">\n",
       "      <th></th>\n",
       "      <th>ObservationPath</th>\n",
       "      <th>FirstFrameNumber</th>\n",
       "      <th>IndividualID</th>\n",
       "      <th>WaterQuality</th>\n",
       "      <th>Brightness</th>\n",
       "      <th>Camera</th>\n",
       "      <th>ObservationAreaPx</th>\n",
       "      <th>NumSpots</th>\n",
       "    </tr>\n",
       "  </thead>\n",
       "  <tbody>\n",
       "    <tr>\n",
       "      <th>0</th>\n",
       "      <td>/workspace/hrrsxb/AIP/Morphometrics/workflows/...</td>\n",
       "      <td>926</td>\n",
       "      <td>0_2</td>\n",
       "      <td>clear</td>\n",
       "      <td>bright</td>\n",
       "      <td>gopro</td>\n",
       "      <td>386757</td>\n",
       "      <td>0</td>\n",
       "    </tr>\n",
       "    <tr>\n",
       "      <th>1</th>\n",
       "      <td>/workspace/hrrsxb/AIP/Morphometrics/workflows/...</td>\n",
       "      <td>928</td>\n",
       "      <td>0_2</td>\n",
       "      <td>clear</td>\n",
       "      <td>bright</td>\n",
       "      <td>gopro</td>\n",
       "      <td>358092</td>\n",
       "      <td>0</td>\n",
       "    </tr>\n",
       "    <tr>\n",
       "      <th>2</th>\n",
       "      <td>/workspace/hrrsxb/AIP/Morphometrics/workflows/...</td>\n",
       "      <td>930</td>\n",
       "      <td>0_2</td>\n",
       "      <td>clear</td>\n",
       "      <td>bright</td>\n",
       "      <td>gopro</td>\n",
       "      <td>405040</td>\n",
       "      <td>0</td>\n",
       "    </tr>\n",
       "    <tr>\n",
       "      <th>3</th>\n",
       "      <td>/workspace/hrrsxb/AIP/Morphometrics/workflows/...</td>\n",
       "      <td>930</td>\n",
       "      <td>0_3</td>\n",
       "      <td>clear</td>\n",
       "      <td>bright</td>\n",
       "      <td>gopro</td>\n",
       "      <td>899391</td>\n",
       "      <td>0</td>\n",
       "    </tr>\n",
       "    <tr>\n",
       "      <th>4</th>\n",
       "      <td>/workspace/hrrsxb/AIP/Morphometrics/workflows/...</td>\n",
       "      <td>932</td>\n",
       "      <td>0_3</td>\n",
       "      <td>clear</td>\n",
       "      <td>bright</td>\n",
       "      <td>gopro</td>\n",
       "      <td>968841</td>\n",
       "      <td>3</td>\n",
       "    </tr>\n",
       "    <tr>\n",
       "      <th>...</th>\n",
       "      <td>...</td>\n",
       "      <td>...</td>\n",
       "      <td>...</td>\n",
       "      <td>...</td>\n",
       "      <td>...</td>\n",
       "      <td>...</td>\n",
       "      <td>...</td>\n",
       "      <td>...</td>\n",
       "    </tr>\n",
       "    <tr>\n",
       "      <th>186795</th>\n",
       "      <td>/workspace/hrrsxb/AIP/Morphometrics/workflows/...</td>\n",
       "      <td>13490</td>\n",
       "      <td>13_20113</td>\n",
       "      <td>clear</td>\n",
       "      <td>dim</td>\n",
       "      <td>snapit</td>\n",
       "      <td>167958</td>\n",
       "      <td>0</td>\n",
       "    </tr>\n",
       "    <tr>\n",
       "      <th>186796</th>\n",
       "      <td>/workspace/hrrsxb/AIP/Morphometrics/workflows/...</td>\n",
       "      <td>13492</td>\n",
       "      <td>13_20113</td>\n",
       "      <td>clear</td>\n",
       "      <td>dim</td>\n",
       "      <td>snapit</td>\n",
       "      <td>181800</td>\n",
       "      <td>0</td>\n",
       "    </tr>\n",
       "    <tr>\n",
       "      <th>186797</th>\n",
       "      <td>/workspace/hrrsxb/AIP/Morphometrics/workflows/...</td>\n",
       "      <td>13494</td>\n",
       "      <td>13_20113</td>\n",
       "      <td>clear</td>\n",
       "      <td>dim</td>\n",
       "      <td>snapit</td>\n",
       "      <td>180846</td>\n",
       "      <td>0</td>\n",
       "    </tr>\n",
       "    <tr>\n",
       "      <th>186798</th>\n",
       "      <td>/workspace/hrrsxb/AIP/Morphometrics/workflows/...</td>\n",
       "      <td>13496</td>\n",
       "      <td>13_20113</td>\n",
       "      <td>clear</td>\n",
       "      <td>dim</td>\n",
       "      <td>snapit</td>\n",
       "      <td>204462</td>\n",
       "      <td>0</td>\n",
       "    </tr>\n",
       "    <tr>\n",
       "      <th>186799</th>\n",
       "      <td>/workspace/hrrsxb/AIP/Morphometrics/workflows/...</td>\n",
       "      <td>13498</td>\n",
       "      <td>13_20113</td>\n",
       "      <td>clear</td>\n",
       "      <td>dim</td>\n",
       "      <td>snapit</td>\n",
       "      <td>184830</td>\n",
       "      <td>0</td>\n",
       "    </tr>\n",
       "  </tbody>\n",
       "</table>\n",
       "<p>186800 rows × 8 columns</p>\n",
       "</div>"
      ],
      "text/plain": [
       "                                          ObservationPath  FirstFrameNumber  \\\n",
       "0       /workspace/hrrsxb/AIP/Morphometrics/workflows/...               926   \n",
       "1       /workspace/hrrsxb/AIP/Morphometrics/workflows/...               928   \n",
       "2       /workspace/hrrsxb/AIP/Morphometrics/workflows/...               930   \n",
       "3       /workspace/hrrsxb/AIP/Morphometrics/workflows/...               930   \n",
       "4       /workspace/hrrsxb/AIP/Morphometrics/workflows/...               932   \n",
       "...                                                   ...               ...   \n",
       "186795  /workspace/hrrsxb/AIP/Morphometrics/workflows/...             13490   \n",
       "186796  /workspace/hrrsxb/AIP/Morphometrics/workflows/...             13492   \n",
       "186797  /workspace/hrrsxb/AIP/Morphometrics/workflows/...             13494   \n",
       "186798  /workspace/hrrsxb/AIP/Morphometrics/workflows/...             13496   \n",
       "186799  /workspace/hrrsxb/AIP/Morphometrics/workflows/...             13498   \n",
       "\n",
       "       IndividualID WaterQuality Brightness  Camera  ObservationAreaPx  \\\n",
       "0               0_2        clear     bright   gopro             386757   \n",
       "1               0_2        clear     bright   gopro             358092   \n",
       "2               0_2        clear     bright   gopro             405040   \n",
       "3               0_3        clear     bright   gopro             899391   \n",
       "4               0_3        clear     bright   gopro             968841   \n",
       "...             ...          ...        ...     ...                ...   \n",
       "186795     13_20113        clear        dim  snapit             167958   \n",
       "186796     13_20113        clear        dim  snapit             181800   \n",
       "186797     13_20113        clear        dim  snapit             180846   \n",
       "186798     13_20113        clear        dim  snapit             204462   \n",
       "186799     13_20113        clear        dim  snapit             184830   \n",
       "\n",
       "        NumSpots  \n",
       "0              0  \n",
       "1              0  \n",
       "2              0  \n",
       "3              0  \n",
       "4              3  \n",
       "...          ...  \n",
       "186795         0  \n",
       "186796         0  \n",
       "186797         0  \n",
       "186798         0  \n",
       "186799         0  \n",
       "\n",
       "[186800 rows x 8 columns]"
      ]
     },
     "execution_count": 20,
     "metadata": {},
     "output_type": "execute_result"
    }
   ],
   "source": [
    "spot_counts = []\n",
    "\n",
    "for output_dir in tqdm(sorted(base_dir.glob(\"output/*\"))):  # edit back to * for all videos \n",
    "\n",
    "    spot_paths = output_dir.glob(\"*/spots/*.json\") #for each json file in spots folder\n",
    "    spot_paths = sorted(spot_paths)\n",
    "    \n",
    "    # To show violin plots spot count distribution against water quality etc,\n",
    "    # we want a dataframe with:\n",
    "    # video name, individual ID, water quality, lighting, device, spot count\n",
    "    \n",
    "    for spot_path in tqdm(spot_paths):\n",
    "        image = cv.imread(str(spot_path.with_suffix(\"\")))\n",
    "        if image is None:\n",
    "            continue\n",
    "\n",
    "        observation_area = image.shape[0] * image.shape[1]\n",
    "        \n",
    "        with open(spot_path) as f:\n",
    "            spot_predictions = json.load(f)\n",
    "        \n",
    "        # Extract the first frame number and the individual ID from the filename\n",
    "        first_frame_num = int(spot_path.name.split(\"_\")[-2])\n",
    "        individual_id = spot_path.name.split(\"_\")[-1].removesuffix(\".jpg.json\")\n",
    "        \n",
    "        # Update the ID to include the video chunk number (otherwise they aren't unique)\n",
    "        video_chunk_num = int(first_frame_num / 1000)\n",
    "        individual_id = f\"{video_chunk_num}_{individual_id}\"\n",
    "        \n",
    "        # Add the data as a row for the dataframe\n",
    "        spot_counts.append([\n",
    "            spot_path,\n",
    "            first_frame_num,\n",
    "            individual_id,\n",
    "            *video_qualities[output_dir.name],\n",
    "            observation_area,\n",
    "            len(spot_predictions)\n",
    "        ])\n",
    "\n",
    "observations_df = pd.DataFrame(\n",
    "    spot_counts, \n",
    "    columns=[\"ObservationPath\", \"FirstFrameNumber\", \"IndividualID\", \"WaterQuality\", \"Brightness\", \"Camera\", \"ObservationAreaPx\", \"NumSpots\"]\n",
    ")\n",
    "\n",
    "observations_df.to_csv(\"observations_df.csv\", index=False)\n",
    "\n",
    "observations_df"
   ]
  },
  {
   "cell_type": "code",
   "execution_count": null,
   "id": "8577f29b-1b71-44a4-8af8-a5f3363f0af7",
   "metadata": {},
   "outputs": [],
   "source": []
  }
 ],
 "metadata": {
  "kernelspec": {
   "display_name": "hrrsxb_nb",
   "language": "python",
   "name": "hrrsxb_nb"
  },
  "language_info": {
   "codemirror_mode": {
    "name": "ipython",
    "version": 3
   },
   "file_extension": ".py",
   "mimetype": "text/x-python",
   "name": "python",
   "nbconvert_exporter": "python",
   "pygments_lexer": "ipython3",
   "version": "3.10.4"
  }
 },
 "nbformat": 4,
 "nbformat_minor": 5
}
